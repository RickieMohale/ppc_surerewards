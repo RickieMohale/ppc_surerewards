{
 "cells": [
  {
   "cell_type": "code",
   "execution_count": 9,
   "metadata": {},
   "outputs": [],
   "source": [
    "\n",
    "# import Presentation class\n",
    "# from pptx library\n",
    "from pptx import Presentation "
   ]
  },
  {
   "cell_type": "code",
   "execution_count": 14,
   "metadata": {},
   "outputs": [],
   "source": [
    "# Creating presentation object\n",
    "root = Presentation()\n",
    "  \n",
    "# Creating slide layout\n",
    "first_slide_layout = root.slide_layouts[0] "
   ]
  },
  {
   "cell_type": "code",
   "execution_count": 15,
   "metadata": {},
   "outputs": [],
   "source": [
    "# Creating slide object to add \n",
    "# in ppt i.e. Attaching slides \n",
    "# with Presentation i.e. ppt\n",
    "slide = root.slides.add_slide(first_slide_layout)"
   ]
  },
  {
   "cell_type": "code",
   "execution_count": 16,
   "metadata": {},
   "outputs": [],
   "source": [
    "# Adding title and subtitle in \n",
    "# slide i.e. first page of slide \n",
    "slide.shapes.title.text = \" Created By python-pptx\""
   ]
  },
  {
   "cell_type": "code",
   "execution_count": 17,
   "metadata": {},
   "outputs": [],
   "source": [
    "# 0 to 1 for different design\n",
    "slide.placeholders[1].text = \" This is 2nd way\"\n",
    "  \n",
    "# Saving file\n",
    "root.save(\"Output.pptx\")"
   ]
  },
  {
   "cell_type": "code",
   "execution_count": 24,
   "metadata": {},
   "outputs": [],
   "source": [
    "\n",
    "from pptx import Presentation \n",
    "from pptx.util import Inches \n",
    "\n",
    "\n",
    "\n",
    "\n",
    "  \n",
    "# Giving Image path \n",
    "ppc_Logo_path =\"C:/Users/lenovo/Desktop/ppc_surerewards_dashboard/resources/imgs/PPC_Logo.png\" \n",
    "\n",
    "top_left_path =\"C:/Users/lenovo/Desktop/ppc_surerewards_dashboard/resources/imgs/top_left.png\"\n",
    "bottom_right_path =\"C:/Users/lenovo/Desktop/ppc_surerewards_dashboard/resources/imgs/bottom_right.png\"\n",
    "\n",
    "\n",
    "  \n",
    "# Creating an Presentation object\n",
    "ppt = Presentation() \n",
    "\n",
    "\n",
    "\n",
    "# set width and height to 16 and 9 inches.\n",
    "ppt.slide_width = Inches(16)\n",
    "ppt.slide_height = Inches(9)\n",
    "  \n",
    "# Selecting blank slide\n",
    "blank_slide_layout = ppt.slide_layouts[6] \n",
    "  \n",
    "# Attaching slide to ppt\n",
    "slide = ppt.slides.add_slide(blank_slide_layout) \n",
    "  \n",
    "# For margins\n",
    "#left = top = Inches(1) \n",
    "  \n",
    "# adding images\n",
    "#pic = slide.shapes.add_picture(img_path,#left, top)\n",
    "  \n",
    "left = Inches(0)\n",
    "top=Inches(0)\n",
    "height = Inches(1) \n",
    "  \n",
    "pic = slide.shapes.add_picture(top_left_path, left,top, height = height)\n",
    "\n",
    "\n",
    "\n",
    "left = Inches(7.9921) \n",
    "height = Inches(1) \n",
    "\n",
    "top=Inches(2.291)\n",
    "  \n",
    "pic = slide.shapes.add_picture(ppc_Logo_path, left,top,width=None, height=None)\n",
    "\n",
    "\n",
    "left= Inches(13.1535)\n",
    "top=Inches(8)\n",
    "height = Inches(1) \n",
    "\n",
    "pic = slide.shapes.add_picture(bottom_right_path, left,top, height = height)\n",
    "\n",
    "\n",
    "\n",
    "\n",
    "\n",
    "# save file\n",
    "ppt.save('test_4.pptx')"
   ]
  },
  {
   "cell_type": "code",
   "execution_count": null,
   "metadata": {},
   "outputs": [],
   "source": []
  }
 ],
 "metadata": {
  "kernelspec": {
   "display_name": "Python 3",
   "language": "python",
   "name": "python3"
  },
  "language_info": {
   "codemirror_mode": {
    "name": "ipython",
    "version": 3
   },
   "file_extension": ".py",
   "mimetype": "text/x-python",
   "name": "python",
   "nbconvert_exporter": "python",
   "pygments_lexer": "ipython3",
   "version": "3.8.5"
  }
 },
 "nbformat": 4,
 "nbformat_minor": 4
}
